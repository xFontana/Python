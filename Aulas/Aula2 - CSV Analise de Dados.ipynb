{
 "cells": [
  {
   "cell_type": "markdown",
   "metadata": {},
   "source": [
    "# Análise de Dados com Python\n",
    "\n",
    "### Desafio:\n",
    "\n",
    "Você trabalha em uma empresa de telecom e tem clientes de vários serviços diferentes, entre os principais: internet e telefone.\n",
    "\n",
    "O problema é que, analisando o histórico dos clientes dos últimos anos, você percebeu que a empresa está com Churn de mais de 26% dos clientes.\n",
    "\n",
    "Isso representa uma perda de milhões para a empresa.\n",
    "\n",
    "O que a empresa precisa fazer para resolver isso?\n",
    "\n",
    "Base de Dados: https://drive.google.com/drive/folders/1T7D0BlWkNuy_MDpUHuBG44kT80EmRYIs?usp=sharing <br>\n",
    "Link Original do Kaggle: https://www.kaggle.com/radmirzosimov/telecom-users-dataset"
   ]
  },
  {
   "cell_type": "code",
   "execution_count": 1,
   "metadata": {},
   "outputs": [
    {
     "name": "stdout",
     "output_type": "stream",
     "text": [
      "<class 'pandas.core.frame.DataFrame'>\n",
      "RangeIndex: 5986 entries, 0 to 5985\n",
      "Data columns (total 22 columns):\n",
      " #   Column                  Non-Null Count  Dtype  \n",
      "---  ------                  --------------  -----  \n",
      " 0   IDCliente               5986 non-null   object \n",
      " 1   Genero                  5986 non-null   object \n",
      " 2   Aposentado              5986 non-null   int64  \n",
      " 3   Casado                  5986 non-null   object \n",
      " 4   Dependentes             5985 non-null   object \n",
      " 5   MesesComoCliente        5986 non-null   int64  \n",
      " 6   ServicoTelefone         5986 non-null   object \n",
      " 7   MultiplasLinhas         5986 non-null   object \n",
      " 8   ServicoInternet         5986 non-null   object \n",
      " 9   ServicoSegurancaOnline  5986 non-null   object \n",
      " 10  ServicoBackupOnline     5986 non-null   object \n",
      " 11  ProtecaoEquipamento     5986 non-null   object \n",
      " 12  ServicoSuporteTecnico   5986 non-null   object \n",
      " 13  ServicoStreamingTV      5986 non-null   object \n",
      " 14  ServicoFilmes           5986 non-null   object \n",
      " 15  TipoContrato            5986 non-null   object \n",
      " 16  FaturaDigital           5986 non-null   object \n",
      " 17  FormaPagamento          5986 non-null   object \n",
      " 18  ValorMensal             5986 non-null   float64\n",
      " 19  TotalGasto              5976 non-null   float64\n",
      " 20  Churn                   5985 non-null   object \n",
      " 21  Codigo                  0 non-null      float64\n",
      "dtypes: float64(3), int64(2), object(17)\n",
      "memory usage: 1.0+ MB\n",
      "None\n"
     ]
    }
   ],
   "source": [
    "#DEV Name: Lucas Fontana\n",
    "\n",
    "import pandas as pd\n",
    "\n",
    "#LER ARQUIVO\n",
    "arquivo_CSV = pd.read_csv(\"telecom_users.csv\")\n",
    "\n",
    "#REMOVER COLUNA SEM CABEÇALHO (#AXIS 0 = COLUNA OU LINHA)\n",
    "arquivo_CSV = arquivo_CSV.drop([\"Unnamed: 0\"], axis = 1)\n",
    "#REMOVER COLUNA COM \"NAN\" (None)\n",
    "\n",
    "#MOSTRAR TABELA\n",
    "#display (arquivo_CSV)\n",
    "\n",
    "#RECONHECER COLUNA COMO NUMERO AO INVES DE TEXTO E TRASNFRMAR (COM O COMANDO ABAIXO VAI DEIXAR VAZIO CASO NÃO DE PRA CONVERTER PRA TEXTO)\n",
    "\n",
    "arquivo_CSV[\"TotalGasto\"] = pd.to_numeric(arquivo_CSV[\"TotalGasto\"], errors = \"coerce\")\n",
    "\n",
    "#RESOLVER PROBLEMA DOS VALORES VAZIOS\n",
    "\n",
    "print(arquivo_CSV.info())"
   ]
  },
  {
   "cell_type": "markdown",
   "metadata": {},
   "source": [
    "### Conclusões e Ações"
   ]
  },
  {
   "cell_type": "markdown",
   "metadata": {},
   "source": [
    "Escreva aqui suas conclusões:"
   ]
  }
 ],
 "metadata": {
  "kernelspec": {
   "display_name": "Python 3.9.12 ('base')",
   "language": "python",
   "name": "python3"
  },
  "language_info": {
   "codemirror_mode": {
    "name": "ipython",
    "version": 3
   },
   "file_extension": ".py",
   "mimetype": "text/x-python",
   "name": "python",
   "nbconvert_exporter": "python",
   "pygments_lexer": "ipython3",
   "version": "3.9.12"
  },
  "vscode": {
   "interpreter": {
    "hash": "ad2bdc8ecc057115af97d19610ffacc2b4e99fae6737bb82f5d7fb13d2f2c186"
   }
  }
 },
 "nbformat": 4,
 "nbformat_minor": 4
}
