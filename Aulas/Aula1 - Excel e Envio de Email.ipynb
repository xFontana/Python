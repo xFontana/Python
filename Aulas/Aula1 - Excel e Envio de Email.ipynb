{
 "cells": [
  {
   "cell_type": "code",
   "execution_count": null,
   "metadata": {},
   "outputs": [],
   "source": [
    "import pyautogui\n",
    "import time\n",
    "import pyperclip\n",
    "\n",
    "pyautogui.PAUSE = 1\n",
    "\n",
    "#ABRIR NAVEGADOR\n",
    "pyautogui.press(\"winleft\")\n",
    "pyautogui.write(\"chrome\")\n",
    "pyautogui.press(\"enter\")\n",
    "pyautogui.alert(\"NÃO MEXA POHA\")\n",
    "pyautogui.hotkey('ctrl','t')\n",
    "\n",
    "#ABRIR DRIVE\n",
    "link = \"https://drive.google.com/drive/folders/149xknr9JvrlEnhNWO49zPcw0PW5icxga?usp=sharing\"\n",
    "pyperclip.copy(link)\n",
    "pyautogui.hotkey('ctrl','v')\n",
    "pyautogui.press(\"enter\")\n",
    "time.sleep(5)\n",
    "\n",
    "######\n",
    "#CLICAR NA PASTA\n",
    "pyautogui.click(368, 247, clicks = 2)\n",
    "time.sleep(2)\n",
    "#CLICAR NO ARQUIVO\n",
    "pyautogui.click(368, 247)\n",
    "time.sleep(2)\n",
    "#CLICAR NOS 3 PONTOS\n",
    "pyautogui.click(1719, 165)\n",
    "time.sleep(2)\n",
    "#BAIXAR ARQUIVO\n",
    "pyautogui.click(1522, 596)\n",
    "\n",
    "\n",
    "pyautogui.alert(\"PAUSAR\")"
   ]
  },
  {
   "cell_type": "code",
   "execution_count": 6,
   "metadata": {},
   "outputs": [
    {
     "name": "stdout",
     "output_type": "stream",
     "text": [
      "15227\n",
      "2917311\n"
     ]
    }
   ],
   "source": [
    "import pyautogui\n",
    "import time\n",
    "import pyperclip\n",
    "import pandas as pd\n",
    "\n",
    "#LER EXCEL E CALCULAR\n",
    "tabela = pd.read_excel(r'C:\\Users\\lucas.fontana\\Downloads\\Vendas - Dez.xlsx')\n",
    "\n",
    "#print (tabela) mostrar tabela\n",
    "#display(tabela) mostrar tabela estruturada\n",
    "\n",
    "#CALCULAR FATURAMENTO\n",
    "faturamento = tabela['Valor Final'].sum()\n",
    "qtd_produtos = tabela['Quantidade'].sum()\n",
    "print (qtd_produtos)\n",
    "print (faturamento)\n",
    "\n",
    "#ENVIAR EMAIL\n",
    "pyautogui.press(\"winleft\")\n",
    "time.sleep(1)\n",
    "pyautogui.write(\"chrome\")\n",
    "time.sleep(1)\n",
    "pyautogui.press(\"enter\")\n",
    "time.sleep(1)\n",
    "pyautogui.hotkey('ctrl','t')\n",
    "time.sleep(1)\n",
    "gmail = \"mail.google.com\"\n",
    "pyperclip.copy(gmail)\n",
    "pyautogui.hotkey('ctrl','v')\n",
    "pyautogui.press(\"enter\")\n",
    "time.sleep(5)\n",
    "\n",
    "#CLICAR NO NOVO EMAIL\n",
    "pyautogui.click(21, 172)\n",
    "\n",
    "#ESCREVER DESTINATARIO\n",
    "time.sleep(1)\n",
    "pyautogui.write('lucasfontana2009@hotmail.com')\n",
    "time.sleep(1)\n",
    "pyautogui.press('tab')\n",
    "pyautogui.press('tab')\n",
    "time.sleep(1)\n",
    "\n",
    "#ESCREVER ASSUNTO\n",
    "pyautogui.write('Relatorio de vendas de ontem')\n",
    "pyautogui.press('tab')\n",
    "time.sleep(2)\n",
    "\n",
    "#ESCREVER CORPO\n",
    "#declar variável\n",
    "corpo = f\"\"\"\n",
    "Prezados, bom dia\n",
    "\n",
    "O faturamento de onte, foi de: R${faturamento:,.2f}\n",
    "A quantidade de produtos foi de: {qtd_produtos:,}\n",
    "\n",
    "Abraços\n",
    "Lucas Lindo\"\"\"\n",
    "#Escrever\n",
    "pyautogui.write(corpo)\n",
    "\n",
    "#ENVIAR EMAIL\n",
    "pyautogui.hotkey('ctrl','enter')"
   ]
  }
 ],
 "metadata": {
  "kernelspec": {
   "display_name": "Python 3.9.12 ('base')",
   "language": "python",
   "name": "python3"
  },
  "language_info": {
   "codemirror_mode": {
    "name": "ipython",
    "version": 3
   },
   "file_extension": ".py",
   "mimetype": "text/x-python",
   "name": "python",
   "nbconvert_exporter": "python",
   "pygments_lexer": "ipython3",
   "version": "3.9.12"
  },
  "orig_nbformat": 4,
  "vscode": {
   "interpreter": {
    "hash": "ad2bdc8ecc057115af97d19610ffacc2b4e99fae6737bb82f5d7fb13d2f2c186"
   }
  }
 },
 "nbformat": 4,
 "nbformat_minor": 2
}
