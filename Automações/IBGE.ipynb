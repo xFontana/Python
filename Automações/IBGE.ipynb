{
 "cells": [
  {
   "cell_type": "markdown",
   "metadata": {},
   "source": [
    "#### Titulo"
   ]
  },
  {
   "cell_type": "code",
   "execution_count": 11,
   "metadata": {},
   "outputs": [
    {
     "name": "stderr",
     "output_type": "stream",
     "text": [
      "C:\\Users\\lucas.fontana\\AppData\\Local\\Temp\\ipykernel_11216\\4206692622.py:17: DeprecationWarning: find_element_by_xpath is deprecated. Please use find_element(by=By.XPATH, value=xpath) instead\n",
      "  navegador.find_element_by_xpath(\n"
     ]
    }
   ],
   "source": [
    "# BOT NAME: IBGE\n",
    "# DEV NAME: Lucas Fontana\n",
    "import time\n",
    "from selenium import webdriver\n",
    "from selenium.webdriver.common.keys import Keys\n",
    "from selenium.webdriver.common.by import By\n",
    "\n",
    "\n",
    "### DOLAR\n",
    "# ABRIR NAVEGADOR\n",
    "navegador = webdriver.Chrome()\n",
    "\n",
    "# CHAMAR URL DO SITE\n",
    "navegador.get(\"https://cidades.ibge.gov.br/\")\n",
    "\n",
    "# PESQUISAR CIDADE\n",
    "navegador.find_element_by_xpath(\n",
    "    '/html/body/app/shell/header/busca/div/input').send_keys(\"São Paulo\")\n",
    "\n",
    "time.sleep(2)\n",
    "\n",
    "count = 1\n",
    "\n",
    "# CLICAR NA CIDADE DA LISTA\n",
    "\n",
    "while count <= (4):\n",
    "    if count >= 1:  \n",
    "        caminho = navegador.find_element(By.XPATH, '/html/body/app/shell/header/busca/div/div[2]/div/div['+ str(count) + ']/a')\n",
    "        if caminho.text.find('Município') >= 0:\n",
    "            navegador.find_element(By.XPATH, '/html/body/app/shell/header/busca/div/div[2]/div/div['+ str(count) + ']/a').click()\n",
    "    count = count+1    \n",
    "\n",
    "# CAPTURAR POPULACAO ESTIMADA\n",
    "populacao = navegador.find_element(By.XPATH, '//*[@id=\"dados\"]/panorama-resumo/div/table/tr[2]/td[3]/valor-indicador/div/span[1]')\n",
    "    \n",
    "#    if \"Município\" in caminho.text:\n",
    "#        navegador.find_element(By.XPATH, '/html/body/app/shell/header/busca/div/div[2]/div/div[{count}]/a/span[1]').click()\n",
    "#    else:\n",
    "#        count += 1\n",
    "#        navegador.find_element(By.XPATH, '/html/body/app/shell/header/busca/div/div[2]/div/div[{count}]/a/span[1]').click()\n",
    "\n",
    "#FUNCIONOU CARAI!!!!!!!!\n",
    "#content = navegador.find_element(By.XPATH, \"//[@class='busca_auto-completarresultado_item']//[text()='Município']\").click()\n",
    "\n"
   ]
  },
  {
   "cell_type": "code",
   "execution_count": 24,
   "metadata": {},
   "outputs": [
    {
     "name": "stdout",
     "output_type": "stream",
     "text": [
      "12.396.372\n",
      "11.253.503 pessoas  \n"
     ]
    }
   ],
   "source": [
    "# BOT NAME: IBGE\n",
    "# DEV NAME: Lucas Fontana\n",
    "import time\n",
    "from selenium import webdriver\n",
    "from selenium.webdriver.common.keys import Keys\n",
    "from selenium.webdriver.common.by import By\n",
    "# CAPTURAR POPULACAO ESTIMADA\n",
    "#populacao = navegador.find_element(By.XPATH, '//*[@class=\"lista__indicador\"]//*[@id=\"dados\"]/panorama-resumo/div/table/tr[2]/td[3]/valor-indicador/div/span[1]')\n",
    "#salario = navegador.find_element(By.XPATH, '//*[@id=\"dados\"]/panorama-resumo/div/table/tr[9]/td[3]/valor-indicador/div/span[1]')\n",
    "\n",
    "salario = navegador.find_element(By.XPATH, '//section[@id=\"dados\"]/panorama-resumo[1]/div[1]/table[1]/tr[4]/td[3]/valor-indicador[1]/div[1]')\n",
    "print (populacao.text)\n",
    "print (salario.text)"
   ]
  }
 ],
 "metadata": {
  "kernelspec": {
   "display_name": "Python 3.9.12 ('base')",
   "language": "python",
   "name": "python3"
  },
  "language_info": {
   "codemirror_mode": {
    "name": "ipython",
    "version": 3
   },
   "file_extension": ".py",
   "mimetype": "text/x-python",
   "name": "python",
   "nbconvert_exporter": "python",
   "pygments_lexer": "ipython3",
   "version": "3.9.12"
  },
  "orig_nbformat": 4,
  "vscode": {
   "interpreter": {
    "hash": "ad2bdc8ecc057115af97d19610ffacc2b4e99fae6737bb82f5d7fb13d2f2c186"
   }
  }
 },
 "nbformat": 4,
 "nbformat_minor": 2
}
